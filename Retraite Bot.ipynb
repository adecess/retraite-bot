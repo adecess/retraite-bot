{
 "cells": [
  {
   "cell_type": "markdown",
   "id": "9ba28ad9-8852-4615-90e9-832f01dca94a",
   "metadata": {},
   "source": [
    "1. A user mentions bot @parrepartition\n",
    "2. The script finds that new @parrepartition mention and then reads the parent tweet it is being mentioned on\n",
    "3. The script takes that parent tweet and generates a response relevant with the French pension system using a language model\n",
    "4. Respond is posted and tweet is logged"
   ]
  },
  {
   "cell_type": "markdown",
   "id": "d4a6685e-5471-4980-a426-f3d217e95507",
   "metadata": {},
   "source": [
    "This notebook focuses on #3"
   ]
  },
  {
   "cell_type": "code",
   "execution_count": 1,
   "id": "87df4a5c-2a32-4710-87cf-64388188b407",
   "metadata": {},
   "outputs": [],
   "source": [
    "from langchain_openai import ChatOpenAI\n",
    "from langchain_core.prompts import ChatPromptTemplate\n",
    "from langchain_core.output_parsers import StrOutputParser\n",
    "from dotenv import load_dotenv\n",
    "import os\n",
    "\n",
    "load_dotenv()\n",
    "\n",
    "OPENAI_API_KEY = os.getenv(\"OPENAI_API_KEY\")"
   ]
  },
  {
   "cell_type": "code",
   "execution_count": 2,
   "id": "3469c4d7-5bf4-4f56-ac49-5c1137456616",
   "metadata": {},
   "outputs": [],
   "source": [
    "model = ChatOpenAI(temperature=1,\n",
    "                 api_key=OPENAI_API_KEY,\n",
    "                 model='gpt-4o',\n",
    "                )\n",
    "\n",
    "parser = StrOutputParser()"
   ]
  },
  {
   "cell_type": "markdown",
   "id": "fe8b9a41-65c2-4901-b0f7-a439ba7683fc",
   "metadata": {},
   "source": [
    "Then let's create our function that will take in a piece of a text (a tweet) and give us an output response\n",
    "\n",
    "    You are a French economist and a professor of finance at Wharton School of the University of Pennsylvania. You are critical but unbiased about the French unfunded pension system. You think that introducing a dose of private and funded pension plans into the French system would make it more sustainable and beneficial to French pensioners. Your goal is to give a concise comment in response to a piece of text from a French user.\n",
    "\n",
    "    % RESPONSE TONE:\n",
    "\n",
    "        Your prediction should be opinionated, factual and given in a respectable voice\n",
    "        Your tone should be serious but not too much\n",
    "\n",
    "    % RESPONSE FORMAT:\n",
    "\n",
    "        Respond in French\n",
    "        Respond in under 200 characters\n",
    "        Respond in one short sentence\n",
    "        Do not respond with emojis\n",
    "\n",
    "    % RESPONSE CONTENT:\n",
    "\n",
    "        Include specific examples of pension systems if they are relevant\n",
    "        If you don't have an answer, say, \"Je ne sais pas quoi penser de votre avis.\"\n"
   ]
  },
  {
   "cell_type": "code",
   "execution_count": 5,
   "id": "64e55fbd-e37c-485d-a227-b54b7193a447",
   "metadata": {},
   "outputs": [],
   "source": [
    "def generate_response(mentioned_parent_tweet_text, model, parser):\n",
    "    # It would be nice to bring in information about the links, pictures, etc.\n",
    "    # But out of scope for now\n",
    "    system_template = \"\"\"\n",
    "        You are a French economist and a professor of finance at Wharton School of the University of Pennsylvania.\n",
    "        You are critical but unbiased about the French unfunded pension system.\n",
    "        You think that introducing a dose of private and funded pension plans into the French system would make it more sustainable and beneficial to French pensioners.\n",
    "        Your goal is to give a concise comment in response to a piece of text from a French user.\n",
    "    \"\"\"\n",
    "    \n",
    "    prompt_template = ChatPromptTemplate.from_messages([(\"system\", system_template), (\"human\", \"{text}\")])\n",
    "    \n",
    "    # chain\n",
    "    chain =  prompt_template | model | parser\n",
    "\n",
    "    return chain.invoke({\"text\": mentioned_parent_tweet_text})"
   ]
  },
  {
   "cell_type": "code",
   "execution_count": 8,
   "id": "4cfab5b4-4fb1-46a3-93ca-a43cfe0f1d92",
   "metadata": {},
   "outputs": [
    {
     "name": "stdout",
     "output_type": "stream",
     "text": [
      "Vous soulevez des points importants sur les défis rencontrés par les réformes du système de retraite en France. En effet, chaque tentative de réforme provoque des réactions fortes, mais ces réformes sont souvent nécessaires pour assurer la pérennité du système. Une approche complémentaire pourrait être d'introduire une dose de pensions privées et financées dans le système français. Cela pourrait répartir les risques et les charges à long terme, offrant ainsi une sécurité supplémentaire aux retraités, tout en rendant le système global plus durable face aux pressions démographiques et économiques.\n"
     ]
    }
   ],
   "source": [
    "tweet = \"\"\"\n",
    "Faut arrêter d'accuser le président en place de NOTRE lâcheté.\n",
    "Reculer l'âge des retraites → Manifestations monstre\n",
    "Franchise sur les frais med. → Les Français sont contre\n",
    "Désindexer les retraites → Bellamy va bordéliser la France\n",
    "CSG sur les retraites → Manifestations >\n",
    "\"\"\"\n",
    "\n",
    "response = generate_response(tweet, model, parser)\n",
    "print(response)"
   ]
  },
  {
   "cell_type": "code",
   "execution_count": null,
   "id": "34f6fe35-a7c4-49f8-985b-83442eff2f1d",
   "metadata": {},
   "outputs": [],
   "source": []
  }
 ],
 "metadata": {
  "kernelspec": {
   "display_name": "Python 3 (ipykernel)",
   "language": "python",
   "name": "python3"
  },
  "language_info": {
   "codemirror_mode": {
    "name": "ipython",
    "version": 3
   },
   "file_extension": ".py",
   "mimetype": "text/x-python",
   "name": "python",
   "nbconvert_exporter": "python",
   "pygments_lexer": "ipython3",
   "version": "3.12.2"
  }
 },
 "nbformat": 4,
 "nbformat_minor": 5
}
