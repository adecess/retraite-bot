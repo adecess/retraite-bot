{
 "cells": [
  {
   "cell_type": "markdown",
   "id": "9ba28ad9-8852-4615-90e9-832f01dca94a",
   "metadata": {},
   "source": [
    "1. A user @mentions your bot, for me it will be @parrepartition\n",
    "2. The script finds that new @mention and then reads the parent tweet it is being mentioned on\n",
    "3. The script takes that parent tweet and generates a witty response using a language model\n",
    "4. Respond is posted and tweet is logged"
   ]
  },
  {
   "cell_type": "code",
   "execution_count": null,
   "id": "9d83e998-e474-4643-b6ff-a40ed76969c3",
   "metadata": {},
   "outputs": [],
   "source": []
  }
 ],
 "metadata": {
  "kernelspec": {
   "display_name": "Python 3 (ipykernel)",
   "language": "python",
   "name": "python3"
  },
  "language_info": {
   "codemirror_mode": {
    "name": "ipython",
    "version": 3
   },
   "file_extension": ".py",
   "mimetype": "text/x-python",
   "name": "python",
   "nbconvert_exporter": "python",
   "pygments_lexer": "ipython3",
   "version": "3.12.2"
  }
 },
 "nbformat": 4,
 "nbformat_minor": 5
}
